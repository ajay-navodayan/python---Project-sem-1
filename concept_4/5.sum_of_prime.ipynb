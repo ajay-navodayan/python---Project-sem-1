{
 "cells": [
  {
   "cell_type": "markdown",
   "metadata": {},
   "source": [
    "# 5.Given a positive integer, find out the sum of all prime numbers from 1 upto this number."
   ]
  },
  {
   "cell_type": "code",
   "execution_count": 6,
   "metadata": {},
   "outputs": [
    {
     "name": "stdout",
     "output_type": "stream",
     "text": [
      "[2, 3, 5, 7, 11, 13]\n",
      "sum is :- 41\n"
     ]
    }
   ],
   "source": [
    "a=int(input(\"enter the digit\")) #taking input\n",
    "list1=[]                        #creating empty list\n",
    "if a>1:  \n",
    "    sum=0  \n",
    "    for i in range(2,a+1):        \n",
    "        count=0\n",
    "        for j in range(2,int(i**0.5 +1)): #dividing i by all j ,if  i gets divided by any j then it is not a prime.\n",
    "            if i%j==0:\n",
    "                count=count+1\n",
    "        if count==0:\n",
    "            list1.append(i)  \n",
    "            sum+=i      #calculating sum \n",
    "    print(list1)\n",
    "    print('sum is :-',sum)\n",
    "else:\n",
    "    print('enter valid input')\n"
   ]
  },
  {
   "cell_type": "code",
   "execution_count": null,
   "metadata": {},
   "outputs": [],
   "source": []
  }
 ],
 "metadata": {
  "kernelspec": {
   "display_name": "Python 3",
   "language": "python",
   "name": "python3"
  },
  "language_info": {
   "codemirror_mode": {
    "name": "ipython",
    "version": 3
   },
   "file_extension": ".py",
   "mimetype": "text/x-python",
   "name": "python",
   "nbconvert_exporter": "python",
   "pygments_lexer": "ipython3",
   "version": "3.11.4"
  }
 },
 "nbformat": 4,
 "nbformat_minor": 2
}
