{
 "cells": [
  {
   "cell_type": "markdown",
   "metadata": {},
   "source": [
    "# 2.Given two numbers,find lcm"
   ]
  },
  {
   "cell_type": "code",
   "execution_count": 3,
   "metadata": {},
   "outputs": [
    {
     "name": "stdout",
     "output_type": "stream",
     "text": [
      "12\n",
      "18\n",
      "lcm is :- 36\n"
     ]
    }
   ],
   "source": [
    "a=int(input('enter the first digit')) # taking integer input \n",
    "print (a)\n",
    "b=int(input('enter the second digit')) #taking integer input\n",
    "print(b)\n",
    "if a>0 and b>0:   #check for a and b greater than zero \n",
    "    if a>b:      #finding greater among given input\n",
    "        greater=a\n",
    "    else:\n",
    "        greater=b\n",
    "    while True:   \n",
    "        if greater%a==0 and greater%b==0: #concept used here is we divide greater number with both a and b and we started adding 1 to greater number untill both a and b can divide that\n",
    "            lcm=greater            #that smallest number which get divided by a and b is lcm \n",
    "            break            #when lcm get calculated then it will break while loop\n",
    "        greater=greater+1 \n",
    "    print(\"lcm is :-\",lcm)  #finally printing lcm\n",
    "        \n",
    "            \n",
    "        \n",
    "        \n",
    "    \n",
    "            "
   ]
  },
  {
   "cell_type": "code",
   "execution_count": null,
   "metadata": {},
   "outputs": [],
   "source": []
  }
 ],
 "metadata": {
  "kernelspec": {
   "display_name": "Python 3",
   "language": "python",
   "name": "python3"
  },
  "language_info": {
   "codemirror_mode": {
    "name": "ipython",
    "version": 3
   },
   "file_extension": ".py",
   "mimetype": "text/x-python",
   "name": "python",
   "nbconvert_exporter": "python",
   "pygments_lexer": "ipython3",
   "version": "3.11.4"
  }
 },
 "nbformat": 4,
 "nbformat_minor": 2
}
