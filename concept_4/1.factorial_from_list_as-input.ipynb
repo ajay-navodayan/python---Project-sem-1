{
 "cells": [
  {
   "cell_type": "markdown",
   "metadata": {},
   "source": [
    "# 1.Given a list of positive integers, find the factorial of all the numbers"
   ]
  },
  {
   "cell_type": "code",
   "execution_count": 22,
   "metadata": {},
   "outputs": [],
   "source": [
    "def factcalculate(list1):                 #defined a function that takes list as input\n",
    "    factlist=[]\n",
    "    if isinstance(list1,list):            #condition for checking input is integr\n",
    "        for i in list1:                   #iterate item from list\n",
    "            if isinstance(i,int) and i>0: # condition to check input is possitive integer \n",
    "                fact=1                    #initialize variable\n",
    "                for x in range(2,i+1):    # it will take value from 2 to given input\n",
    "                    fact=fact*x           #it will update initialized variable \n",
    "                factlist.append(fact)     #append factorial in factlist\n",
    "            elif i==0:                    # considering case when item in list is zero\n",
    "                factlist.append('1')      \n",
    "            else:                         # checking condition when item in list is not positive integer\n",
    "                factlist.append('input is not a positive integer')\n",
    "        return factlist                    # return factorial of given input in factlist\n",
    "    else:\n",
    "        print('please enter list as input')      # condition to check if input is not list"
   ]
  },
  {
   "cell_type": "code",
   "execution_count": 11,
   "metadata": {},
   "outputs": [
    {
     "data": {
      "text/plain": [
       "[24, '1', 1, 120, 'input is not a positive integer']"
      ]
     },
     "execution_count": 11,
     "metadata": {},
     "output_type": "execute_result"
    }
   ],
   "source": [
    "factcalculate([4,0,1,5,-9])"
   ]
  },
  {
   "cell_type": "code",
   "execution_count": 19,
   "metadata": {},
   "outputs": [
    {
     "data": {
      "text/plain": [
       "['input is not a positive integer', '1', 6]"
      ]
     },
     "execution_count": 19,
     "metadata": {},
     "output_type": "execute_result"
    }
   ],
   "source": [
    "factcalculate([5.6,0,3,])"
   ]
  },
  {
   "cell_type": "code",
   "execution_count": 21,
   "metadata": {},
   "outputs": [
    {
     "name": "stdout",
     "output_type": "stream",
     "text": [
      "please enter list as  input\n"
     ]
    }
   ],
   "source": [
    "dict1={}\n",
    "factcalculate(dict1)"
   ]
  },
  {
   "cell_type": "code",
   "execution_count": 16,
   "metadata": {},
   "outputs": [
    {
     "data": {
      "text/plain": [
       "[24, 120, 720]"
      ]
     },
     "execution_count": 16,
     "metadata": {},
     "output_type": "execute_result"
    }
   ],
   "source": [
    "list2=[4,5,6]\n",
    "factcalculate(list2)"
   ]
  },
  {
   "cell_type": "code",
   "execution_count": null,
   "metadata": {},
   "outputs": [],
   "source": []
  }
 ],
 "metadata": {
  "kernelspec": {
   "display_name": "Python 3",
   "language": "python",
   "name": "python3"
  },
  "language_info": {
   "codemirror_mode": {
    "name": "ipython",
    "version": 3
   },
   "file_extension": ".py",
   "mimetype": "text/x-python",
   "name": "python",
   "nbconvert_exporter": "python",
   "pygments_lexer": "ipython3",
   "version": "3.11.4"
  }
 },
 "nbformat": 4,
 "nbformat_minor": 2
}
