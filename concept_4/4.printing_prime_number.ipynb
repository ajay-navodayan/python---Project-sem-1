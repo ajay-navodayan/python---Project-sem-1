{
 "cells": [
  {
   "cell_type": "markdown",
   "metadata": {},
   "source": [
    "# 4. Given a positive integer, find out all prime numbers from 1 up to this number."
   ]
  },
  {
   "cell_type": "code",
   "execution_count": 15,
   "metadata": {},
   "outputs": [
    {
     "name": "stdout",
     "output_type": "stream",
     "text": [
      "[2, 3, 5, 7, 11, 13, 17, 19]\n"
     ]
    }
   ],
   "source": [
    "a=int(input(\"enter the digit\")) # taking input as positive integer\n",
    "list1=[]                       # creating empty list\n",
    "if a>1:\n",
    "    for i in range(2,a+1):         #taking value i 2 upto given input\n",
    "        count=0\n",
    "        for j in range(2,(int(i**0.5))+1): \n",
    "            if i%j==0:           #if i gets divided by any value of j then its not a prime otherwisw it will prime\n",
    "                count=count+1    \n",
    "        if count==0:          #if count is zero means I not get divided by any j and  that I will append in prime list \n",
    "            list1.append(i)\n",
    "    print(list1)                #printing prime list\n",
    "else:\n",
    "    print('enter valid input')   \n",
    "            \n",
    "        \n",
    "                    "
   ]
  },
  {
   "cell_type": "code",
   "execution_count": null,
   "metadata": {},
   "outputs": [],
   "source": []
  }
 ],
 "metadata": {
  "kernelspec": {
   "display_name": "Python 3",
   "language": "python",
   "name": "python3"
  },
  "language_info": {
   "codemirror_mode": {
    "name": "ipython",
    "version": 3
   },
   "file_extension": ".py",
   "mimetype": "text/x-python",
   "name": "python",
   "nbconvert_exporter": "python",
   "pygments_lexer": "ipython3",
   "version": "3.11.4"
  }
 },
 "nbformat": 4,
 "nbformat_minor": 2
}
