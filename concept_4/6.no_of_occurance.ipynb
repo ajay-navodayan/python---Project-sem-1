{
 "cells": [
  {
   "cell_type": "markdown",
   "metadata": {},
   "source": [
    "# Given a lis of numbers,find out how many times each number occurs in the list."
   ]
  },
  {
   "cell_type": "code",
   "execution_count": 1,
   "metadata": {},
   "outputs": [],
   "source": [
    "def check(list1):\n",
    "    if isinstance(list1,list): #checking input is list or not\n",
    "        new_list=[]           #creating empty list\n",
    "        for i in list1:       #iterating item from list\n",
    "            count=0\n",
    "            if i not in new_list:  #condition for ensuring no repetation, it will check i I will found in new list then next step will not exicute.\n",
    "                new_list.append(i)\n",
    "                for j in list1: \n",
    "                    if i==j: #if I and J will equal count will increse by one\n",
    "                        count+=1\n",
    "                print(f'No of occurance of {i} is {count}')  #printing count\n",
    "    else:                   #condition for checking if input is not list\n",
    "        return 'Please enter list as input'\n",
    "    "
   ]
  },
  {
   "cell_type": "code",
   "execution_count": 30,
   "metadata": {},
   "outputs": [
    {
     "name": "stdout",
     "output_type": "stream",
     "text": [
      "No of occurance of 2 is 5\n",
      "No of occurance of 4 is 1\n",
      "No of occurance of 3 is 1\n",
      "No of occurance of 6 is 1\n",
      "No of occurance of 5 is 1\n",
      "No of occurance of 67 is 2\n"
     ]
    }
   ],
   "source": [
    "check([2,4,2,3,6,2,5,2,67,2,67])"
   ]
  },
  {
   "cell_type": "code",
   "execution_count": 2,
   "metadata": {},
   "outputs": [
    {
     "data": {
      "text/plain": [
       "'Please enter list as input'"
      ]
     },
     "execution_count": 2,
     "metadata": {},
     "output_type": "execute_result"
    }
   ],
   "source": [
    "check(2)"
   ]
  },
  {
   "cell_type": "code",
   "execution_count": 3,
   "metadata": {},
   "outputs": [
    {
     "name": "stdout",
     "output_type": "stream",
     "text": [
      "No of occurance of 3 is 1\n",
      "No of occurance of 5 is 1\n",
      "No of occurance of 7 is 1\n"
     ]
    }
   ],
   "source": [
    "check([3,5,7])"
   ]
  },
  {
   "cell_type": "code",
   "execution_count": null,
   "metadata": {},
   "outputs": [],
   "source": []
  }
 ],
 "metadata": {
  "kernelspec": {
   "display_name": "Python 3",
   "language": "python",
   "name": "python3"
  },
  "language_info": {
   "codemirror_mode": {
    "name": "ipython",
    "version": 3
   },
   "file_extension": ".py",
   "mimetype": "text/x-python",
   "name": "python",
   "nbconvert_exporter": "python",
   "pygments_lexer": "ipython3",
   "version": "3.11.4"
  }
 },
 "nbformat": 4,
 "nbformat_minor": 2
}
