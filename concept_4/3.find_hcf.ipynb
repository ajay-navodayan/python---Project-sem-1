{
 "cells": [
  {
   "cell_type": "markdown",
   "metadata": {},
   "source": [
    "# 3.Given two numbers, find its Greatest common divisor"
   ]
  },
  {
   "cell_type": "code",
   "execution_count": 8,
   "metadata": {},
   "outputs": [
    {
     "name": "stdout",
     "output_type": "stream",
     "text": [
      "12\n",
      "18\n",
      "hcf is :- 6\n"
     ]
    }
   ],
   "source": [
    "a=int(input('Enter first digit')) #taking integer input\n",
    "print(a)\n",
    "b=int(input('enter second digit')) #taking integer input\n",
    "print(b)\n",
    "if a>0 and b>0:    #cheking a and b greater than zero \n",
    "    if a>b:      #finding lowest input\n",
    "        lowest=b\n",
    "    else:\n",
    "        lowest=a\n",
    "        #logic here is we will take value 1 to lowest number and will divide to both number.Which highest number divide both input will be hcf\n",
    "    for i in range(1,lowest+1):\n",
    "        if a%i==0 and b%i==0:  # diving i to both of input\n",
    "            hcf=i             #which highest i divide both will be hcf \n",
    "    print('hcf is :-',hcf)    #printing lcm\n",
    "else:\n",
    "    print('enter positive integer')\n",
    "        \n",
    "        "
   ]
  },
  {
   "cell_type": "code",
   "execution_count": null,
   "metadata": {},
   "outputs": [],
   "source": []
  }
 ],
 "metadata": {
  "kernelspec": {
   "display_name": "Python 3",
   "language": "python",
   "name": "python3"
  },
  "language_info": {
   "codemirror_mode": {
    "name": "ipython",
    "version": 3
   },
   "file_extension": ".py",
   "mimetype": "text/x-python",
   "name": "python",
   "nbconvert_exporter": "python",
   "pygments_lexer": "ipython3",
   "version": "3.11.4"
  }
 },
 "nbformat": 4,
 "nbformat_minor": 2
}
