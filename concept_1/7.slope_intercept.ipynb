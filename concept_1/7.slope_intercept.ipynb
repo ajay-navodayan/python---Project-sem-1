{
 "cells": [
  {
   "cell_type": "markdown",
   "metadata": {},
   "source": [
    "# 7 Given two points(x1,y1) and (x2,y2), find the slope and inercept of the line joining these two points(the line may be perfectly horizontal or verticle)"
   ]
  },
  {
   "cell_type": "code",
   "execution_count": 6,
   "metadata": {},
   "outputs": [
    {
     "name": "stdout",
     "output_type": "stream",
     "text": [
      "4\n",
      "6\n",
      "8\n",
      "20\n",
      "slope is:- 3.5\n",
      "intercept is:- -8.0\n"
     ]
    }
   ],
   "source": [
    "# first taking input as x1,y1,x2,y2\n",
    "x1=int(input('enter x1'))\n",
    "print(x1)\n",
    "y1=int(input('enter y1'))\n",
    "print(y1)\n",
    "x2=int(input('enter x2'))\n",
    "print(x2)\n",
    "y2=int(input('enter y2'))\n",
    "print(y2)\n",
    "\n",
    "if x2-x1==0:    #checking if x2-x1 is zero, this is the case of perfectly verticle \n",
    "    print('slope and intercept is not defined') #then we know that any number divided by zero is not defined so this will occur\n",
    "elif y2-y1==0:  # case of perfectly horizontal \n",
    "    print('slope is zero and intercept is:-',y1)\n",
    "else:           #if both of step not true then it will exicute \n",
    "    slope=(y2-y1)/(x2-x1)\n",
    "    intercept=y1-slope*x1   #it will calculate intercept by rearranging y=m*x=+c formula here c is intercept\n",
    "    print('slope is:-',slope)\n",
    "    print('intercept is:-',intercept)\n",
    "    \n",
    "    "
   ]
  },
  {
   "cell_type": "code",
   "execution_count": null,
   "metadata": {},
   "outputs": [],
   "source": []
  }
 ],
 "metadata": {
  "kernelspec": {
   "display_name": "Python 3",
   "language": "python",
   "name": "python3"
  },
  "language_info": {
   "codemirror_mode": {
    "name": "ipython",
    "version": 3
   },
   "file_extension": ".py",
   "mimetype": "text/x-python",
   "name": "python",
   "nbconvert_exporter": "python",
   "pygments_lexer": "ipython3",
   "version": "3.11.4"
  }
 },
 "nbformat": 4,
 "nbformat_minor": 2
}
