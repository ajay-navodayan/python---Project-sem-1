{
 "cells": [
  {
   "cell_type": "markdown",
   "metadata": {},
   "source": [
    "# given three points, find out whwther they lie on the same straight line or not"
   ]
  },
  {
   "cell_type": "code",
   "execution_count": 9,
   "metadata": {},
   "outputs": [],
   "source": [
    "def points(x1,y1,x2,y2,x3,y3): #taking input \n",
    "    #calculating Area of Triangle as we know that is if three point lies on a straight line then it cannot form triangle and its area will be zero\n",
    "    Area_of_Triangle=1/2*(x1*(y2-y3)+x2*(y3-y1)+x3*(y1-y2)) \n",
    "    if Area_of_Triangle==0: #if area is zero then it will lie on same straight line\n",
    "        return 'lie on the same straight line'\n",
    "    else:                  #condition if area of triangle is not zero then points will not lie on same straight line\n",
    "        return 'not lie on same straight line'\n",
    "        "
   ]
  },
  {
   "cell_type": "code",
   "execution_count": 6,
   "metadata": {},
   "outputs": [
    {
     "data": {
      "text/plain": [
       "'not lie on same straight line'"
      ]
     },
     "execution_count": 6,
     "metadata": {},
     "output_type": "execute_result"
    }
   ],
   "source": [
    "points(3,4,5,2,4,7)"
   ]
  },
  {
   "cell_type": "code",
   "execution_count": 7,
   "metadata": {},
   "outputs": [
    {
     "data": {
      "text/plain": [
       "'lie on the same straight line'"
      ]
     },
     "execution_count": 7,
     "metadata": {},
     "output_type": "execute_result"
    }
   ],
   "source": [
    "points(2,2,4,4,6,6)"
   ]
  },
  {
   "cell_type": "code",
   "execution_count": 8,
   "metadata": {},
   "outputs": [
    {
     "data": {
      "text/plain": [
       "'not lie on same straight line'"
      ]
     },
     "execution_count": 8,
     "metadata": {},
     "output_type": "execute_result"
    }
   ],
   "source": [
    "points(0,0,9,8,7,0)"
   ]
  },
  {
   "cell_type": "code",
   "execution_count": null,
   "metadata": {},
   "outputs": [],
   "source": []
  }
 ],
 "metadata": {
  "kernelspec": {
   "display_name": "Python 3",
   "language": "python",
   "name": "python3"
  },
  "language_info": {
   "codemirror_mode": {
    "name": "ipython",
    "version": 3
   },
   "file_extension": ".py",
   "mimetype": "text/x-python",
   "name": "python",
   "nbconvert_exporter": "python",
   "pygments_lexer": "ipython3",
   "version": "3.11.4"
  }
 },
 "nbformat": 4,
 "nbformat_minor": 2
}
