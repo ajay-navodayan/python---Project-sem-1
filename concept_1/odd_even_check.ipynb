{
 "cells": [
  {
   "cell_type": "markdown",
   "metadata": {},
   "source": [
    "# 1 given an integer, check if it is even or odd"
   ]
  },
  {
   "cell_type": "code",
   "execution_count": 1,
   "metadata": {},
   "outputs": [
    {
     "name": "stdout",
     "output_type": "stream",
     "text": [
      "76455586 is even\n"
     ]
    }
   ],
   "source": [
    "a=int(input('enter integer')) \n",
    "# to check given no. is negative or not\n",
    "if a>0:\n",
    "    # logic here is if any integer divided by 2 gives remainder 0 then it is a even number\n",
    "    if a%2==0:  \n",
    "        print(a,'is even')\n",
    "    else:\n",
    "        print(a,'is odd')\n",
    "else :\n",
    "    print(\"please give positive integer\")      \n"
   ]
  }
 ],
 "metadata": {
  "kernelspec": {
   "display_name": "Python 3",
   "language": "python",
   "name": "python3"
  },
  "language_info": {
   "codemirror_mode": {
    "name": "ipython",
    "version": 3
   },
   "file_extension": ".py",
   "mimetype": "text/x-python",
   "name": "python",
   "nbconvert_exporter": "python",
   "pygments_lexer": "ipython3",
   "version": "3.11.4"
  }
 },
 "nbformat": 4,
 "nbformat_minor": 2
}
