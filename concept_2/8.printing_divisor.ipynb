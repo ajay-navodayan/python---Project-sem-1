{
 "cells": [
  {
   "cell_type": "markdown",
   "metadata": {},
   "source": [
    "# 8.Given a positive integer,find all its divisors."
   ]
  },
  {
   "cell_type": "code",
   "execution_count": 10,
   "metadata": {},
   "outputs": [],
   "source": [
    "def find_divisor(n): #taking input\n",
    "    if isinstance(n,int) and n>0: #checking input is positive integer or not\n",
    "        for i in range(1,n+1):   #running for loop for taking value 1 to given input\n",
    "            if n%i==0:           # dividing input by all value if i , those i  divide input is divisor. \n",
    "                print('divisor is:-',i) #printing divisor\n",
    "    else:                 #condition if input is not positive integer\n",
    "        return 'enter positive integer as input'"
   ]
  },
  {
   "cell_type": "code",
   "execution_count": 11,
   "metadata": {},
   "outputs": [
    {
     "name": "stdout",
     "output_type": "stream",
     "text": [
      "divisor is:- 1\n",
      "divisor is:- 2\n",
      "divisor is:- 5\n",
      "divisor is:- 10\n"
     ]
    }
   ],
   "source": [
    "find_divisor(10)"
   ]
  },
  {
   "cell_type": "code",
   "execution_count": 7,
   "metadata": {},
   "outputs": [
    {
     "data": {
      "text/plain": [
       "'enter positive integer as input'"
      ]
     },
     "execution_count": 7,
     "metadata": {},
     "output_type": "execute_result"
    }
   ],
   "source": [
    "find_divisor(0)"
   ]
  },
  {
   "cell_type": "code",
   "execution_count": 8,
   "metadata": {},
   "outputs": [
    {
     "name": "stdout",
     "output_type": "stream",
     "text": [
      "divisor is:- 1\n",
      "divisor is:- 7\n"
     ]
    }
   ],
   "source": [
    "find_divisor(7)"
   ]
  },
  {
   "cell_type": "code",
   "execution_count": 9,
   "metadata": {},
   "outputs": [
    {
     "name": "stdout",
     "output_type": "stream",
     "text": [
      "divisor is:- 1\n",
      "divisor is:- 2\n",
      "divisor is:- 3\n",
      "divisor is:- 6\n",
      "divisor is:- 9\n",
      "divisor is:- 18\n"
     ]
    }
   ],
   "source": [
    "find_divisor(18)"
   ]
  },
  {
   "cell_type": "code",
   "execution_count": null,
   "metadata": {},
   "outputs": [],
   "source": []
  }
 ],
 "metadata": {
  "kernelspec": {
   "display_name": "Python 3",
   "language": "python",
   "name": "python3"
  },
  "language_info": {
   "codemirror_mode": {
    "name": "ipython",
    "version": 3
   },
   "file_extension": ".py",
   "mimetype": "text/x-python",
   "name": "python",
   "nbconvert_exporter": "python",
   "pygments_lexer": "ipython3",
   "version": "3.11.4"
  }
 },
 "nbformat": 4,
 "nbformat_minor": 2
}
