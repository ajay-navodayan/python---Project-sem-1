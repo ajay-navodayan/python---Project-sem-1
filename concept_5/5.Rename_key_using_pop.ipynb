{
 "cells": [
  {
   "cell_type": "markdown",
   "metadata": {},
   "source": [
    "# 5.Remove a key from a dictionary,\n",
    "dict_name.pop(key_name) \n",
    "what does this function return?\n",
    "use pop to rename key"
   ]
  },
  {
   "cell_type": "code",
   "execution_count": 14,
   "metadata": {},
   "outputs": [],
   "source": [
    "#remove key from dictionary\n",
    "def rename(dict1):\n",
    "    if isinstance(dict1,dict):\n",
    "        key_remove=input('enter key to remove')\n",
    "        dict1.pop(key_remove) #this function return value associated with that key\n",
    "        return dict1\n",
    "        "
   ]
  },
  {
   "cell_type": "code",
   "execution_count": 15,
   "metadata": {},
   "outputs": [
    {
     "data": {
      "text/plain": [
       "{'a': 2, 'c': 8}"
      ]
     },
     "execution_count": 15,
     "metadata": {},
     "output_type": "execute_result"
    }
   ],
   "source": [
    "rename({'a':2,'b':4,'c':8})"
   ]
  },
  {
   "cell_type": "code",
   "execution_count": 11,
   "metadata": {},
   "outputs": [
    {
     "name": "stdout",
     "output_type": "stream",
     "text": [
      "{'Name': 'Ajay', 'Age': 18, 'length': 5}\n"
     ]
    }
   ],
   "source": [
    "# rename key using pop \n",
    "dict2={'Name':'Ajay','Age':18, 'height':5,} #assume a dictionary\n",
    "dict2['length']=dict2.pop('height')         #we have seen above dict2.pop('height)give value and it is assigned to new key length of dictionary\n",
    "print(dict2)                               #printing dictionary"
   ]
  },
  {
   "cell_type": "code",
   "execution_count": null,
   "metadata": {},
   "outputs": [],
   "source": []
  }
 ],
 "metadata": {
  "kernelspec": {
   "display_name": "Python 3",
   "language": "python",
   "name": "python3"
  },
  "language_info": {
   "codemirror_mode": {
    "name": "ipython",
    "version": 3
   },
   "file_extension": ".py",
   "mimetype": "text/x-python",
   "name": "python",
   "nbconvert_exporter": "python",
   "pygments_lexer": "ipython3",
   "version": "3.11.4"
  }
 },
 "nbformat": 4,
 "nbformat_minor": 2
}
