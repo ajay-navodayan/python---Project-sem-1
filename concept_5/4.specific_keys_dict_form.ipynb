{
 "cells": [
  {
   "cell_type": "markdown",
   "metadata": {},
   "source": [
    "# Create a new dictionary so that it only has the keys mentioned in another list"
   ]
  },
  {
   "cell_type": "code",
   "execution_count": 2,
   "metadata": {},
   "outputs": [
    {
     "name": "stdout",
     "output_type": "stream",
     "text": [
      "{'name': 'kelly', 'salary': 8000}\n"
     ]
    }
   ],
   "source": [
    "sample_dict={\"name\":\"kelly\",\"age\":25,\"salary\":8000,\"city\":\"new york\"}\n",
    "keys=[\"name\",\"salary\"]\n",
    "dict1={}\n",
    "for i in range(len(keys)):               #it will run loop only two times so code will be efficient\n",
    "    dict1[keys[i]]=sample_dict[keys[i]]  #key of dict1 will be taken corresponding to  I from list(keys) and value according to dictionary\n",
    "print(dict1)                             #print new dictionary"
   ]
  },
  {
   "cell_type": "code",
   "execution_count": null,
   "metadata": {},
   "outputs": [],
   "source": []
  }
 ],
 "metadata": {
  "kernelspec": {
   "display_name": "Python 3",
   "language": "python",
   "name": "python3"
  },
  "language_info": {
   "codemirror_mode": {
    "name": "ipython",
    "version": 3
   },
   "file_extension": ".py",
   "mimetype": "text/x-python",
   "name": "python",
   "nbconvert_exporter": "python",
   "pygments_lexer": "ipython3",
   "version": "3.11.4"
  }
 },
 "nbformat": 4,
 "nbformat_minor": 2
}
