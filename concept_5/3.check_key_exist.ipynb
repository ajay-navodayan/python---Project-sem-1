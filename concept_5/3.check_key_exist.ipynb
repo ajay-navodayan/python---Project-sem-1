{
 "cells": [
  {
   "cell_type": "markdown",
   "metadata": {},
   "source": [
    "# 3.check if a key exist in a dictionary and check if a value exist in dictionary"
   ]
  },
  {
   "cell_type": "code",
   "execution_count": 5,
   "metadata": {},
   "outputs": [
    {
     "name": "stdout",
     "output_type": "stream",
     "text": [
      "key_needed not exist\n"
     ]
    }
   ],
   "source": [
    "sample_dict={'a':100,'b':200,'c':300}\n",
    "key_needed='d'\n",
    "value_needed=200\n",
    "if key_needed in sample_dict.keys(): #checking key_needed present in keys of dictionary or not\n",
    "    print('yes key_needed exist')    #if first condition true it will print yes exist\n",
    "else:                                #if key_needed not exist in keys of dictionary then this step will exicute\n",
    "    print('key_needed not exist')\n",
    "    \n"
   ]
  },
  {
   "cell_type": "code",
   "execution_count": 4,
   "metadata": {},
   "outputs": [
    {
     "name": "stdout",
     "output_type": "stream",
     "text": [
      "yes value_needed exist\n"
     ]
    }
   ],
   "source": [
    "if value_needed in sample_dict.values():  #checking key_needed present in keys of dictionary or not\n",
    "    print('yes value_needed exist')       #if first condition true it will print yes exist\n",
    "else:\n",
    "    print('value_needed not exist')       #if key_needed not exist in keys of dictionary then this step will exicute"
   ]
  },
  {
   "cell_type": "code",
   "execution_count": null,
   "metadata": {},
   "outputs": [],
   "source": []
  }
 ],
 "metadata": {
  "kernelspec": {
   "display_name": "Python 3",
   "language": "python",
   "name": "python3"
  },
  "language_info": {
   "codemirror_mode": {
    "name": "ipython",
    "version": 3
   },
   "file_extension": ".py",
   "mimetype": "text/x-python",
   "name": "python",
   "nbconvert_exporter": "python",
   "pygments_lexer": "ipython3",
   "version": "3.11.4"
  }
 },
 "nbformat": 4,
 "nbformat_minor": 2
}
