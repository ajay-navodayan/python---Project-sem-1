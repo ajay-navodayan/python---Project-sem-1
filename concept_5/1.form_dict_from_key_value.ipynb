{
 "cells": [
  {
   "cell_type": "markdown",
   "metadata": {},
   "source": [
    "# 1.Convert these two lists into a dictionary. Takes the keys from the first list, and values from the second one."
   ]
  },
  {
   "cell_type": "code",
   "execution_count": 1,
   "metadata": {},
   "outputs": [
    {
     "name": "stdout",
     "output_type": "stream",
     "text": [
      "{'Ten': 10, 'Twenty': 20, 'Thirty': 30}\n"
     ]
    }
   ],
   "source": [
    "keys=['Ten','Twenty','Thirty']\n",
    "values=[10,20,30]\n",
    "dict1={}                 #creating empty dictionary\n",
    "len_keys=len(keys)       #finding length\n",
    "len_values=len(values)   \n",
    "if len_keys==len_values: #checking if length are equal\n",
    "    for i in range(len_keys):   \n",
    "          dict1[keys[i]]=values[i] #combining key value pair gives dictionary\n",
    "else:                    #if length are unequal\n",
    "    for i in range(min(len_keys,len_values)): #run loop on minimum range\n",
    "        dict1[keys[i]]=values[i]\n",
    "print(dict1)             # print dictionary\n",
    "    "
   ]
  },
  {
   "cell_type": "markdown",
   "metadata": {},
   "source": [
    "#if we take unequal length input \n",
    "\n",
    "like:-\n",
    "keys=['Ten','Twenty','Thirty'] and\n",
    "values=[10,20]\n",
    "\n",
    "then it will form dict1={'Ten':10,'Twenty':20}\n"
   ]
  }
 ],
 "metadata": {
  "kernelspec": {
   "display_name": "Python 3",
   "language": "python",
   "name": "python3"
  },
  "language_info": {
   "codemirror_mode": {
    "name": "ipython",
    "version": 3
   },
   "file_extension": ".py",
   "mimetype": "text/x-python",
   "name": "python",
   "nbconvert_exporter": "python",
   "pygments_lexer": "ipython3",
   "version": "3.11.4"
  }
 },
 "nbformat": 4,
 "nbformat_minor": 2
}
