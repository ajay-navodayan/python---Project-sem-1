{
 "cells": [
  {
   "cell_type": "markdown",
   "metadata": {},
   "source": [
    "#8. Create a dictionary to store the total marks of 5 students in the class in 3 subjects (Course1, Course2, Course3). The keys must be the student names, and the values must be the list of marks. Create another list which has the course names in the same order as the marks are stored in the dictionary values. Now write a nested for loop to print the marks for each student exam wise."
   ]
  },
  {
   "cell_type": "code",
   "execution_count": 1,
   "metadata": {},
   "outputs": [
    {
     "name": "stdout",
     "output_type": "stream",
     "text": [
      "Ajay\n",
      "physics : 67\n",
      "chemistry : 99\n",
      "Math : 78\n",
      "ritik\n",
      "physics : 86\n",
      "chemistry : 89\n",
      "Math : 87\n",
      "sahil\n",
      "physics : 94\n",
      "chemistry : 67\n",
      "Math : 69\n",
      "mannu\n",
      "physics : 56\n",
      "chemistry : 92\n",
      "Math : 45\n",
      "pankaj\n",
      "physics : 45\n",
      "chemistry : 55\n",
      "Math : 91\n"
     ]
    }
   ],
   "source": [
    "# first creating a dictionary to store marks of 5 students\n",
    "students={\"Ajay\":[67,99,78],\"ritik\":[86,89,87],\"sahil\":[94,67,69],\"mannu\":[56,92,45],\"pankaj\":[45,55,91]}\n",
    "course1=[\"physics\",\"chemistry\",\"Math\"] #list \n",
    "for key,value in students.items(): #taking key and value from dictionary\n",
    "    print(key)                     #printing key name\n",
    "    for i in range(len(course1)):  \n",
    "        \n",
    "       print(course1[i],\":\",value[i]) #printing subject assosiated marks"
   ]
  },
  {
   "cell_type": "code",
   "execution_count": null,
   "metadata": {},
   "outputs": [],
   "source": []
  }
 ],
 "metadata": {
  "kernelspec": {
   "display_name": "Python 3",
   "language": "python",
   "name": "python3"
  },
  "language_info": {
   "codemirror_mode": {
    "name": "ipython",
    "version": 3
   },
   "file_extension": ".py",
   "mimetype": "text/x-python",
   "name": "python",
   "nbconvert_exporter": "python",
   "pygments_lexer": "ipython3",
   "version": "3.11.4"
  }
 },
 "nbformat": 4,
 "nbformat_minor": 2
}
