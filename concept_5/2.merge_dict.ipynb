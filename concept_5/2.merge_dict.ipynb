{
 "cells": [
  {
   "cell_type": "markdown",
   "metadata": {},
   "source": [
    "# 2.Merge these two dictionry into one using for loop"
   ]
  },
  {
   "cell_type": "code",
   "execution_count": 1,
   "metadata": {},
   "outputs": [
    {
     "name": "stdout",
     "output_type": "stream",
     "text": [
      "{'ten': 10, 'twenty': 20, 'thirty': 80, 'fourty': 40, 'fifty': 50}\n"
     ]
    }
   ],
   "source": [
    "dict1={\"ten\":10,\"twenty\":20,\"thirty\":30}\n",
    "dict2={\"thirty\":80,\"fourty\":40,\"fifty\":50}\n",
    "dict3={}                         # creating an empty dictionary\n",
    "for key,value in dict1.items():  #considering key and value pair from dict1\n",
    "    dict3[key]=value             #key of dict1 will be key of dict3 and value associated with key of dict1 will be value of dict3\n",
    "for key,value in dict2.items():\n",
    "    dict3[key]=value\n",
    "print(dict3)                     #it will form dict3"
   ]
  },
  {
   "cell_type": "code",
   "execution_count": null,
   "metadata": {},
   "outputs": [],
   "source": []
  }
 ],
 "metadata": {
  "kernelspec": {
   "display_name": "Python 3",
   "language": "python",
   "name": "python3"
  },
  "language_info": {
   "codemirror_mode": {
    "name": "ipython",
    "version": 3
   },
   "file_extension": ".py",
   "mimetype": "text/x-python",
   "name": "python",
   "nbconvert_exporter": "python",
   "pygments_lexer": "ipython3",
   "version": "3.11.4"
  }
 },
 "nbformat": 4,
 "nbformat_minor": 2
}
