{
 "cells": [
  {
   "cell_type": "code",
   "execution_count": 2,
   "metadata": {},
   "outputs": [
    {
     "name": "stdout",
     "output_type": "stream",
     "text": [
      "the weight of a male person (in kg) is: 69.1\n"
     ]
    }
   ],
   "source": [
    
     "a=int(input(\"enter the code of gender(0 or 1)\"))\n",
    "b=int(input(\"enter the height(in inch)\"))\n",
    "w1=52+1.9*(b-60)\n",
    "w2=49+1.6*(b-60)\n",
    "\n",
    "if a==1:\n",
    "    print(\"the weight of a male person (in kg) is:\", w1)\n",
    "                                             \n",
    "elif a==0:\n",
    "    print(\"the weight of a female person (in kg)is:\",w2)"
   ]
  },
  {
   "cell_type": "code",
   "execution_count": null,
   "metadata": {},
   "outputs": [],
   "source": []
  }
 ],
 "metadata": {
  "kernelspec": {
   "display_name": "Python 3",
   "language": "python",
   "name": "python3"
  },
  "language_info": {
   "codemirror_mode": {
    "name": "ipython",
    "version": 3
   },
   "file_extension": ".py",
   "mimetype": "text/x-python",
   "name": "python",
   "nbconvert_exporter": "python",
   "pygments_lexer": "ipython3",
   "version": "3.11.4"
  },
  "orig_nbformat": 4
 },
 "nbformat": 4,
 "nbformat_minor": 2
}
