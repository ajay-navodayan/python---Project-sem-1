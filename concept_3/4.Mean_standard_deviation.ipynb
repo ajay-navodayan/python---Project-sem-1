{
 "cells": [
  {
   "cell_type": "markdown",
   "metadata": {},
   "source": [
    "# 4.Given a list of numbers,find out the mean and standard deviation"
   ]
  },
  {
   "cell_type": "code",
   "execution_count": 29,
   "metadata": {},
   "outputs": [],
   "source": [
    "def find(list1):\n",
    "    if isinstance(list1,list): #codition for checking input is list\n",
    "        if len(list1)>0:       #checking list is empty or not\n",
    "            add=0              #intialized variable of add and deviation\n",
    "            deviation=0\n",
    "            for i in list1:    #iterating item from list for calculating sum\n",
    "                add+=i\n",
    "            mean=add/len(list1) #finding mean by total sum/length of list\n",
    "            for x in list1:    #iterating item to calcullate deviation\n",
    "                deviation=deviation+(mean-x)**2  #formula to calculate deviation\n",
    "            variance=deviation/len(list1)  \n",
    "            return (f\"Mean is:-{mean},Standard deviation is:-{variance**0.5}\")  #formula of S.D is root under variance and it returns mean and s.d\n",
    "        else:                         #c0ndition for empty list\n",
    "            return 'empty list'\n",
    "    else:                     #if input is not list\n",
    "        return'enter list as input'\n",
    "            "
   ]
  },
  {
   "cell_type": "code",
   "execution_count": 30,
   "metadata": {},
   "outputs": [
    {
     "data": {
      "text/plain": [
       "'Mean is:-7.0,Standard deviation is:-3.366501646120693'"
      ]
     },
     "execution_count": 30,
     "metadata": {},
     "output_type": "execute_result"
    }
   ],
   "source": [
    "find([2,12,4,9,6,9,])"
   ]
  },
  {
   "cell_type": "code",
   "execution_count": 31,
   "metadata": {},
   "outputs": [
    {
     "data": {
      "text/plain": [
       "'Mean is:-55.0,Standard deviation is:-8.136338242723197'"
      ]
     },
     "execution_count": 31,
     "metadata": {},
     "output_type": "execute_result"
    }
   ],
   "source": [
    "find([57,64,43,67,49,59,44,47,61,59])"
   ]
  },
  {
   "cell_type": "code",
   "execution_count": 26,
   "metadata": {},
   "outputs": [
    {
     "data": {
      "text/plain": [
       "'enter list as input'"
      ]
     },
     "execution_count": 26,
     "metadata": {},
     "output_type": "execute_result"
    }
   ],
   "source": [
    "find({8,0})"
   ]
  },
  {
   "cell_type": "code",
   "execution_count": null,
   "metadata": {},
   "outputs": [],
   "source": []
  }
 ],
 "metadata": {
  "kernelspec": {
   "display_name": "Python 3",
   "language": "python",
   "name": "python3"
  },
  "language_info": {
   "codemirror_mode": {
    "name": "ipython",
    "version": 3
   },
   "file_extension": ".py",
   "mimetype": "text/x-python",
   "name": "python",
   "nbconvert_exporter": "python",
   "pygments_lexer": "ipython3",
   "version": "3.11.4"
  }
 },
 "nbformat": 4,
 "nbformat_minor": 2
}
