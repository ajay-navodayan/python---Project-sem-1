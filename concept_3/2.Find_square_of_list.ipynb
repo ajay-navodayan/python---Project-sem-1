{
 "cells": [
  {
   "cell_type": "markdown",
   "metadata": {},
   "source": [
    "# 2.Given a list of numbers,find the squares of all the numbers."
   ]
  },
  {
   "cell_type": "code",
   "execution_count": 18,
   "metadata": {},
   "outputs": [],
   "source": [
    "def findsquare(list1):      #defined a function that taking list as input\n",
    "    if isinstance(list1,list): #checking input is list or not\n",
    "        if len(list1)>0:\n",
    "            squarelist=[]          #creating empty list\n",
    "            for i in list1:        #iterating item from list\n",
    "                p=i*i              #multiplying iterated item by self and save in p is square of i\n",
    "                squarelist.append(p) #append square in empty list\n",
    "            return squarelist        #return list of sqaure of all numbers\n",
    "        else:\n",
    "             return 'list is empty'           \n",
    "    else:\n",
    "        return 'please enter list'        "
   ]
  },
  {
   "cell_type": "code",
   "execution_count": 10,
   "metadata": {},
   "outputs": [
    {
     "data": {
      "text/plain": [
       "[9, 34.81, 0, 49]"
      ]
     },
     "execution_count": 10,
     "metadata": {},
     "output_type": "execute_result"
    }
   ],
   "source": [
    "findsquare([3,5.9,0,7])"
   ]
  },
  {
   "cell_type": "code",
   "execution_count": 19,
   "metadata": {},
   "outputs": [
    {
     "data": {
      "text/plain": [
       "'list is empty'"
      ]
     },
     "execution_count": 19,
     "metadata": {},
     "output_type": "execute_result"
    }
   ],
   "source": [
    "findsquare([])"
   ]
  },
  {
   "cell_type": "code",
   "execution_count": null,
   "metadata": {},
   "outputs": [],
   "source": []
  }
 ],
 "metadata": {
  "kernelspec": {
   "display_name": "Python 3",
   "language": "python",
   "name": "python3"
  },
  "language_info": {
   "codemirror_mode": {
    "name": "ipython",
    "version": 3
   },
   "file_extension": ".py",
   "mimetype": "text/x-python",
   "name": "python",
   "nbconvert_exporter": "python",
   "pygments_lexer": "ipython3",
   "version": "3.11.4"
  }
 },
 "nbformat": 4,
 "nbformat_minor": 2
}
