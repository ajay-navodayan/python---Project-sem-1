{
 "cells": [
  {
   "cell_type": "markdown",
   "metadata": {},
   "source": [
    "# 5.Given a list of numbers, find all the even numbers in it"
   ]
  },
  {
   "cell_type": "code",
   "execution_count": 27,
   "metadata": {},
   "outputs": [],
   "source": [
    "def findeven(list1):\n",
    "    if isinstance(list1,list):                 # condition for checking input is list \n",
    "        if len(list1)>0:                       # checking length of list\n",
    "            evenlist=[]                        #creating empty list\n",
    "            for i in list1:                    #iterating item from list\n",
    "                if isinstance(i,int) and i>=0: #checking iterating item is positive integer \n",
    "                    if i%2==0:                 #if item divided by 2 then it is even number otherwise it is odd number             \n",
    "                        evenlist.append(i)     #appending even number in list(evenlist)\n",
    "            return evenlist                    #return final even list\n",
    "        else:                                  #checking if list is empty\n",
    "            return 'empty list'\n",
    "    else:                                      #checking if input is not list\n",
    "        return 'input is not list'\n",
    "                 \n",
    "             "
   ]
  },
  {
   "cell_type": "code",
   "execution_count": 32,
   "metadata": {},
   "outputs": [
    {
     "data": {
      "text/plain": [
       "[2, 12, 6, 0]"
      ]
     },
     "execution_count": 32,
     "metadata": {},
     "output_type": "execute_result"
    }
   ],
   "source": [
    "findeven([2,12,3,9.8,6,-8,9,0])"
   ]
  },
  {
   "cell_type": "code",
   "execution_count": 29,
   "metadata": {},
   "outputs": [
    {
     "data": {
      "text/plain": [
       "'empty list'"
      ]
     },
     "execution_count": 29,
     "metadata": {},
     "output_type": "execute_result"
    }
   ],
   "source": [
    "findeven([])"
   ]
  },
  {
   "cell_type": "code",
   "execution_count": 30,
   "metadata": {},
   "outputs": [
    {
     "data": {
      "text/plain": [
       "'input is not list'"
      ]
     },
     "execution_count": 30,
     "metadata": {},
     "output_type": "execute_result"
    }
   ],
   "source": [
    "findeven({})"
   ]
  },
  {
   "cell_type": "code",
   "execution_count": null,
   "metadata": {},
   "outputs": [],
   "source": []
  }
 ],
 "metadata": {
  "kernelspec": {
   "display_name": "Python 3",
   "language": "python",
   "name": "python3"
  },
  "language_info": {
   "codemirror_mode": {
    "name": "ipython",
    "version": 3
   },
   "file_extension": ".py",
   "mimetype": "text/x-python",
   "name": "python",
   "nbconvert_exporter": "python",
   "pygments_lexer": "ipython3",
   "version": "3.11.4"
  }
 },
 "nbformat": 4,
 "nbformat_minor": 2
}
