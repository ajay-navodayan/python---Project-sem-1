{
 "cells": [
  {
   "cell_type": "code",
   "execution_count": null,
   "metadata": {},
   "outputs": [],
   "source": []
  },
  {
   "cell_type": "code",
   "execution_count": null,
   "metadata": {},
   "outputs": [
    {
     "name": "stdout",
     "output_type": "stream",
     "text": [
      "c is greatest\n"
     ]
    }
   ],
   "source": [
    "a=4\n",
    "b=9\n",
    "c=7\n",
    "if a>b:  #if this is satisfied then next if will be checked between this block\n",
    "    \n",
    "    if a>c:\n",
    "            print(\"a is greatest\")\n",
    "elif b<c:\n",
    "    if b>a:\n",
    "            print(\"b is greatest\")\n",
    "else:\n",
    "            print(\"c is greatest\")           "
   ]
  }
 ],
 "metadata": {
  "language_info": {
   "name": "python"
  },
  "orig_nbformat": 4
 },
 "nbformat": 4,
 "nbformat_minor": 2
}
