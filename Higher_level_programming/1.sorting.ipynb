{
 "cells": [
  {
   "cell_type": "markdown",
   "metadata": {},
   "source": [
    "# 1.Given a list of numbera, sort it in ascending order."
   ]
  },
  {
   "cell_type": "code",
   "execution_count": 9,
   "metadata": {},
   "outputs": [
    {
     "name": "stdout",
     "output_type": "stream",
     "text": [
      "unsorted list is :- [6, 3, 11, 24, 29, 12, 9, 27]\n",
      "sorted list in ascending order is :- [3, 6, 9, 11, 12, 24, 27, 29]\n"
     ]
    }
   ],
   "source": [
    "import copy\n",
    "list2=[6,3,11,24,29,12,9,27] # creating a list\n",
    "list1=copy.deepcopy(list2)   #copy list because list is mutable and original list will change\n",
    "for i in range(len(list1)):\n",
    "    for j in range(i+1,len(list1)):\n",
    "        if list1[i]>list1[j]: #cheking if it satisfy than next then it will do swapping to arrange in ascending order\n",
    "            change=list1[i]\n",
    "            list1[i]=list1[j]\n",
    "            list1[j]=change\n",
    "            #after swapping I and J will be interchanged\n",
    "print('unsorted list is :-',list2)  #printing unsorted list\n",
    "print('sorted list in ascending order is :-',list1) #printing sorted list"
   ]
  },
  {
   "cell_type": "code",
   "execution_count": null,
   "metadata": {},
   "outputs": [],
   "source": []
  }
 ],
 "metadata": {
  "kernelspec": {
   "display_name": "Python 3",
   "language": "python",
   "name": "python3"
  },
  "language_info": {
   "codemirror_mode": {
    "name": "ipython",
    "version": 3
   },
   "file_extension": ".py",
   "mimetype": "text/x-python",
   "name": "python",
   "nbconvert_exporter": "python",
   "pygments_lexer": "ipython3",
   "version": "3.11.4"
  }
 },
 "nbformat": 4,
 "nbformat_minor": 2
}
