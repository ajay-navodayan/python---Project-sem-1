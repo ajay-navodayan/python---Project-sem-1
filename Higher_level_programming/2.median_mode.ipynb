{
 "cells": [
  {
   "cell_type": "markdown",
   "metadata": {},
   "source": [
    "# 2.Given a list of numbers, find out the median and mode."
   ]
  },
  {
   "cell_type": "code",
   "execution_count": 16,
   "metadata": {},
   "outputs": [
    {
     "name": "stdout",
     "output_type": "stream",
     "text": [
      "[2, 2, 4, 6, 9, 9, 12, 12, 12, 12, 16]\n",
      "median is :- 12\n"
     ]
    }
   ],
   "source": [
    "# 1. median\n",
    "list1=[12,2,12,16,9,12,6,2,4,12,9]    #input for calculating median\n",
    "# for calculating Median we have to arrange in ascending order.\n",
    "for i in range(len(list1)):\n",
    "    for j in range(i+1,len(list1)):\n",
    "        if list1[i]>list1[j]:\n",
    "            # Doing swapping for arranging in ascending order\n",
    "            change=list1[i]\n",
    "            list1[i]=list1[j]\n",
    "            list1[j]=change \n",
    "\n",
    "print(list1)  \n",
    "# concept we know that meadian is measure of central tendency          \n",
    "if len(list1)%2==0:  # if length is even then we will add both middle part and divide by two for median\n",
    "    Median=(list1[(len(list1)//2)-1]+list1[(len(list1)//2)])/2\n",
    "    \n",
    "else:         #if lenght is odd then eaisly we get centre item that will be median\n",
    "    Median=list1[(len(list1)//2)+1]\n",
    "print('median is :-',Median) # printing final median"
   ]
  },
  {
   "cell_type": "code",
   "execution_count": 17,
   "metadata": {},
   "outputs": [
    {
     "name": "stdout",
     "output_type": "stream",
     "text": [
      "list is :- [2, 2, 4, 6, 9, 9, 12, 12, 12, 12, 16]\n",
      "dictionary is :- {2: 2, 4: 1, 6: 1, 9: 2, 12: 4, 16: 1}\n",
      "mode is :- 12\n"
     ]
    }
   ],
   "source": [
    "# 2. Mode calculation\n",
    "print('list is :-',list1)\n",
    "mode_dict={}  # creating a empty dictionary\n",
    "for i in list1:  #iterating item from list and making dictionary where key is item of list and value is occurance\n",
    "    if i in mode_dict:  \n",
    "        mode_dict[i]+=1\n",
    "    else:\n",
    "        mode_dict[i]=1\n",
    "count=0       \n",
    "for i,j in mode_dict.items():  #iterating key, value from dictionary\n",
    "    if j>count:                # if value found greater than assigned count then count will update to that value\n",
    "        count=j\n",
    "        mode=i              # mode will be key corresponding maximum count value\n",
    "print('dictionary is :-', mode_dict)            # printing dictionary\n",
    "print('mode is :-',mode)    #printing mode"
   ]
  },
  {
   "cell_type": "code",
   "execution_count": null,
   "metadata": {},
   "outputs": [],
   "source": []
  }
 ],
 "metadata": {
  "kernelspec": {
   "display_name": "Python 3",
   "language": "python",
   "name": "python3"
  },
  "language_info": {
   "codemirror_mode": {
    "name": "ipython",
    "version": 3
   },
   "file_extension": ".py",
   "mimetype": "text/x-python",
   "name": "python",
   "nbconvert_exporter": "python",
   "pygments_lexer": "ipython3",
   "version": "3.11.4"
  }
 },
 "nbformat": 4,
 "nbformat_minor": 2
}
