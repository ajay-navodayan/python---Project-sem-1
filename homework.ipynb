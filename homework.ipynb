{
 "cells": [
  {
   "cell_type": "markdown",
   "metadata": {},
   "source": [
    "1. Given two numbers a and b, find a/b (b could be zero)"
   ]
  },
  {
   "cell_type": "code",
   "execution_count": 1,
   "metadata": {},
   "outputs": [
    {
     "name": "stdout",
     "output_type": "stream",
     "text": [
      "2.0\n"
     ]
    }
   ],
   "source": [
    "a=int(input(\"enter the number\"))\n",
    "b=int(input(\"enter the number\"))\n",
    "if b==0: #checking if b=0 then print will be not defined\n",
    "    print(\"not defined\")\n",
    "else:  \n",
    "    print(a/b)"
   ]
  },
  {
   "cell_type": "markdown",
   "metadata": {},
   "source": [
    "2. Given a point in 2D space, find the quadrant in which it lies. \n",
    "\n"
   ]
  },
  {
   "cell_type": "code",
   "execution_count": 2,
   "metadata": {},
   "outputs": [
    {
     "name": "stdout",
     "output_type": "stream",
     "text": [
      "1st quadrant\n"
     ]
    }
   ],
   "source": [
    "x=float(input(\"enter the value\"))\n",
    "y=float(input(\"enter the value\"))\n",
    "if x>0:\n",
    "    if y>0:\n",
    "        print(\"1st quadrant\")\n",
    "if x>0:\n",
    "    if y<0:\n",
    "        print(\"3rd quadrant\")\n",
    "if x<0:\n",
    "    if y<0:\n",
    "        print(\"3rd quadrant\")\n",
    "if x<0:\n",
    "    if y>0:\n",
    "        print(\"4th quadrant\") "
   ]
  },
  {
   "cell_type": "markdown",
   "metadata": {},
   "source": [
    "3. Given two points in 2D space, find the slope and y-intercept of the line joining them. Consider all cases\n"
   ]
  },
  {
   "cell_type": "code",
   "execution_count": 1,
   "metadata": {},
   "outputs": [
    {
     "name": "stdout",
     "output_type": "stream",
     "text": [
      "The slope of the line - -4.0\n",
      "the value of Y-intercept- 32.0\n"
     ]
    }
   ],
   "source": [
    "x1=float(input(\"Enter the value of X1\"))        # taking the value of x and y cordinate \n",
    "y1=float(input('Enter the value of Y1'))\n",
    "x2=float(input('Enter the value of X2'))\n",
    "y2=float(input('Enter the value of Y2'))\n",
    "m=0                                             # creating variable m to store the value of slope \n",
    "\n",
    "if (x2-x1)==0 :                                 # checking if (X2-X1) is equall to zero then will print - not defined \n",
    "    print(\"slope is not defined as line is parallel to Y-axis\")\n",
    "elif (y2-y1)==0 :                               # checking if (Y2-Y1) is equall to zero then will print - slope is zero parallel to X - axis \n",
    "    print(\"Slope is zero, line is parallel to the X-axis\")\n",
    "else :                                          # esle will compute the value of slope \n",
    "    global m                                    # using global keyword to make change in m that is created outside the variable \n",
    "    m=(y2-y1)/(x2-x1)                           # Computing the slope using the formula mention above in the Markdown and Displaying thr value of slope \n",
    "    print(\"The slope of the line -\",m)\n",
    "\n",
    "c= y1-(m*x1)                                    # Calculating the value of Y intercept \n",
    "\n",
    "if c==0 :                                       # if value of y-intercept is equal to zero, it means the line passing through the origin  \n",
    "    print(\"line passes through the origin\")\n",
    "else:\n",
    "    print('the value of Y-intercept-',c)        # else displaying the calculate value of Y intercept."
   ]
  },
  {
   "cell_type": "markdown",
   "metadata": {},
   "source": [
    "4. Given a temperature in Fahrenheit, convert it to Celsius. If the temperature is below 10 degree celcius output cold, between 10 and 25 output pleasant, between 25 and 35 output warm, and above 35 output hot.\n"
   ]
  },
  {
   "cell_type": "code",
   "execution_count": 2,
   "metadata": {},
   "outputs": [
    {
     "name": "stdout",
     "output_type": "stream",
     "text": [
      "warm\n"
     ]
    }
   ],
   "source": [
    "f=float(input(\"enter f value\"))\n",
    "f=c*(5/9)+32 #f is farenheight and c in degree celcius\n",
    "if c<10:\n",
    "    print(\"cold\")\n",
    "if 10<c<25:\n",
    "    print(\"pleasent\")\n",
    "if 25<c<35:\n",
    "    print(\"warm\")\n",
    "if c>35:\n",
    "    print(\"too hot to survive\")"
   ]
  },
  {
   "cell_type": "code",
   "execution_count": null,
   "metadata": {},
   "outputs": [],
   "source": [
    "5. Given a quadratic equation with coefficients a, b and c, find the two solutions (may be real or complex). You should not take the square root of a negative number in your code.\n"
   ]
  },
  {
   "cell_type": "code",
   "execution_count": 3,
   "metadata": {},
   "outputs": [
    {
     "name": "stdout",
     "output_type": "stream",
     "text": [
      "root are imaginary\n",
      "(-5+6.855654600401044j) (-5-6.855654600401044j)\n"
     ]
    }
   ],
   "source": [
    "a=float(input(\"enter  the value a\"))\n",
    "b=float(input('enter b value'))\n",
    "c=float(input(\"enter the value c\"))\n",
    "d=b**2-(4*a*c)\n",
    "\n",
    "if d>=0:\n",
    "    print( \"root are real\")\n",
    "    r1=(-b/2*a)+d**(1/2)/2*a\n",
    "    r2=(-b/2*a)-d**(1/2)/2*a\n",
    "    print(r1,r2)\n",
    "if d<0:\n",
    "    print(\"root are imaginary\")\n",
    "    r1=(-b/2*a)+d**(1/2)/2*a\n",
    "    r2=(-b/2*a)-d**(1/2)/2*a\n",
    "    print(r1,r2)"
   ]
  },
  {
   "cell_type": "markdown",
   "metadata": {},
   "source": [
    "6. Given three points, find out whether they lie on the same straight line or not."
   ]
  },
  {
   "cell_type": "code",
   "execution_count": 1,
   "metadata": {},
   "outputs": [
    {
     "name": "stdout",
     "output_type": "stream",
     "text": [
      "a=area of traingle\n",
      "not lie on same straiht line\n"
     ]
    }
   ],
   "source": [
    "x1=float(input(\"enter x1\"))\n",
    "x2=float(input(\"enter x2\"))\n",
    "x3=float(input(\"enter x3\"))\n",
    "y1= float(input(\"enter y1\"))\n",
    "y2=float(input(\"enter y2\"))\n",
    "y3=float(input(\"enter y2\"))\n",
    "print(\"a=area of traingle\")\n",
    "a=(1/2)*(x1*(y2-y3))*(x2*(y3-y1))*(x3*(y1-y2))\n",
    "if a==0:\n",
    "    print(\"lie on same straight line\")\n",
    "else:\n",
    "    \n",
    "    print(\"not lie on same straiht line\")"
   ]
  },
  {
   "cell_type": "code",
   "execution_count": null,
   "metadata": {},
   "outputs": [],
   "source": []
  }
 ],
 "metadata": {
  "kernelspec": {
   "display_name": "Python 3",
   "language": "python",
   "name": "python3"
  },
  "language_info": {
   "codemirror_mode": {
    "name": "ipython",
    "version": 3
   },
   "file_extension": ".py",
   "mimetype": "text/x-python",
   "name": "python",
   "nbconvert_exporter": "python",
   "pygments_lexer": "ipython3",
   "version": "3.11.4"
  },
  "orig_nbformat": 4
 },
 "nbformat": 4,
 "nbformat_minor": 2
}
